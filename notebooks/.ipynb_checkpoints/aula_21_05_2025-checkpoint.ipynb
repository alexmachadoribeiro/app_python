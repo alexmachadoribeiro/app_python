{
 "cells": [
  {
   "cell_type": "markdown",
   "id": "2e7400b3",
   "metadata": {},
   "source": [
    "# Título do meu notebook\n",
    "## Subtítulo do meu notebook\n",
    "### Título nível 3 do meu notebook\n",
    "---"
   ]
  },
  {
   "cell_type": "markdown",
   "id": "fc612033",
   "metadata": {},
   "source": [
    "Este é um texto do meu notebook.\n",
    "\n",
    "*Este texto está em itálico.*\n",
    "\n",
    "**Este texto está em negrito.**\n",
    "\n",
    "***Este texto está em negrito e itálico ao mesmo tempo.***"
   ]
  },
  {
   "cell_type": "markdown",
   "id": "d514fc0a",
   "metadata": {},
   "source": [
    "- Marcador 1\n",
    "- Marcador 2\n",
    "- Marcador 3\n",
    "\n",
    "1. Numeração 1\n",
    "2. Numeração 2\n",
    "3. Numeração 3\n",
    "3. Numeração 4"
   ]
  },
  {
   "cell_type": "markdown",
   "id": "72670407",
   "metadata": {},
   "source": [
    "Para instalar o pandas, execute o comando no `pip install pandas` terminal.\n",
    "\n",
    "Este é um código PHP:\n",
    "\n",
    "~~~php\n",
    "<?php\n",
    "    echo \"Alô, mundo!\";\n",
    "?>\n",
    "~~~\n",
    "\n",
    "Este é um código em SQL:\n",
    "\n",
    "~~~sql\n",
    "CREATE DATABASE IF NOT EXISTS meu_banco;\n",
    "~~~\n",
    "\n",
    "Este é um código em Java:\n",
    "\n",
    "~~~java\n",
    "class Main {\n",
    "    public static void main(String[] args) {\n",
    "        System.out.println(\"Alô, mundo!\");\n",
    "    }\n",
    "}\n",
    "~~~\n",
    "\n",
    "Entrada de dados em Java:\n",
    "\n",
    "~~~java\n",
    "import java.util.Scanner;\n",
    "\n",
    "class Main {\n",
    "    public static void main(String[] args) {\n",
    "        Scanner sc = new Scanner(system.in);\n",
    "\n",
    "        String nome;\n",
    "        String cpf;\n",
    "        int idade;\n",
    "\n",
    "        System.out.println(\"Informe seu nome:\");\n",
    "        nome = sc.nextLine();\n",
    "        System.out.println(\"Informe sua idade:\");\n",
    "        idade = sc.nextInt();\n",
    "\n",
    "        sc.netxLine();\n",
    "        \n",
    "        System.out.println(\"Informe seu CPF:\");\n",
    "        cpf = sc.nextLine();\n",
    "\n",
    "        System.out.println(\"Nome do usuário: \" + nome + \".\");\n",
    "        System.out.println(\"Idade do usuário: \" + idade + \".\");\n",
    "        System.out.println(\"CPF do usuário: \" + cpf + \".\");\n",
    "    }\n",
    "}"
   ]
  }
 ],
 "metadata": {
  "language_info": {
   "name": "python"
  }
 },
 "nbformat": 4,
 "nbformat_minor": 5
}
