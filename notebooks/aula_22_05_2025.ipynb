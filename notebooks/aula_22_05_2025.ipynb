{
 "cells": [
  {
   "cell_type": "markdown",
   "id": "ebb02dd6",
   "metadata": {},
   "source": [
    "# Notebook da aula do dia 22/05/2025\n",
    "---"
   ]
  },
  {
   "cell_type": "markdown",
   "id": "147e8888",
   "metadata": {},
   "source": [
    "## Markdowns\n",
    "---"
   ]
  },
  {
   "cell_type": "markdown",
   "id": "4db7a991",
   "metadata": {},
   "source": [
    "### Inserindo links em markdowns\n",
    "\n",
    "Esta é a forma como se insere links em markdowns:\n",
    "\n",
    "[Clique aqui para ir para a página do GitHub do professor](https://github.com/alexmachadoribeiro)\n",
    "\n",
    "URL do GitHub do professor: <https://github.com/alexmachadoribeiro>"
   ]
  },
  {
   "cell_type": "markdown",
   "id": "13b8c672",
   "metadata": {},
   "source": [
    "### Quote\n",
    "\n",
    "> Este é um texto que ficará em destaque no seu *notebook*. Este recurso é muito interessante para destacar um trecho do texto do seu *notebook*, ou para inserir o conceito de alguma palavra por exemplo.\n",
    "\n",
    "> Este é um parágrafo que inicia um novo quote.\n",
    "\n",
    "> **Digita um texto que ficará em negrito dentro do quote, dando assim maior destaque ao texto.**"
   ]
  },
  {
   "cell_type": "markdown",
   "id": "abc82192",
   "metadata": {},
   "source": [
    "### Criando tabelas\n",
    "\n",
    "Coluna 1 | Coluna 2\n",
    "-------- | --------\n",
    "Linha 1  | Correspondência 1\n",
    "Linha 2  | Correspondência 2\n",
    "Linha 3  | Correspondência 3"
   ]
  },
  {
   "cell_type": "markdown",
   "id": "c1e64e89",
   "metadata": {},
   "source": [
    "## HTML em Markdowns\n",
    "---"
   ]
  },
  {
   "cell_type": "markdown",
   "id": "d998fd7a",
   "metadata": {},
   "source": [
    "<h5>Este é um título do HTML dentro de um markdown</h5>\n",
    "<marquee>Texto em marquee</marquee>\n",
    "\n",
    "<div style=\"border: 1px solid green; border-radius: 5px; width: 100px; height: 100px; background-color: red\">\n",
    "</div>"
   ]
  },
  {
   "cell_type": "markdown",
   "id": "f6fecf97",
   "metadata": {},
   "source": [
    "### Meu quote personalizado com HTML\n",
    "\n",
    "<div style=\"border: 2px groove #16161d; border-radius: 5px; background-color: #0000ff; padding: 20px; box-shadow: 10px 10px 15px black;\">\n",
    "    <p>\n",
    "        Este texto está dentro de uma div HTML que simula uma quote em um markdown de um notebook. Só para exemplificar algo.\n",
    "    </p>\n",
    "</div>"
   ]
  },
  {
   "cell_type": "markdown",
   "id": "d4902d48",
   "metadata": {},
   "source": [
    "### Criação de formulário em markdown\n",
    "\n",
    "<input type=\"checkbox\" /><span>Java</span><br />\n",
    "<input type=\"checkbox\" /><span>JavaScript</span><br />\n",
    "<input type=\"checkbox\" /><span>Python</span><br />\n",
    "<input type=\"checkbox\" /><span>C</span><br />\n",
    "<input type=\"checkbox\" /><span>C++</span><br />\n",
    "<input type=\"checkbox\" /><span>C#</span><br />\n",
    "<input type=\"checkbox\" /><span>PHP</span><br />\n",
    "<br />\n",
    "<br />\n",
    "<input type=\"radio\" name=\"opcao\" /><span>Opção 1</span><br />\n",
    "<input type=\"radio\" name=\"opcao\" /><span>Opção 2</span><br />\n",
    "<input type=\"radio\" name=\"opcao\" /><span>Opção 3</span><br />\n",
    "<input type=\"radio\" name=\"opcao\" /><span>Opção 4</span><br />"
   ]
  },
  {
   "cell_type": "markdown",
   "id": "1e5cea3b",
   "metadata": {},
   "source": [
    "### Inserindo imagens em markdown utilizando HTML\n",
    "\n",
    "<div style=\"display: flex; justify-content: center\">\n",
    "    <img src=\"assets/Mortal-Kombat-Logo.png\" alt=\"MK\" width=600 />\n",
    "</div>\n",
    "<div style=\"display: flex; justify-content: center\">\n",
    "    <h6>\"It has begun\"</h6>\n",
    "</div>"
   ]
  },
  {
   "cell_type": "code",
   "execution_count": 6,
   "id": "85be0185",
   "metadata": {},
   "outputs": [
    {
     "name": "stdout",
     "output_type": "stream",
     "text": [
      "Célula com código-fonte Python!\n"
     ]
    }
   ],
   "source": [
    "print(\"Célula com código-fonte Python!\")"
   ]
  },
  {
   "cell_type": "code",
   "execution_count": 7,
   "id": "0d20f5bf",
   "metadata": {},
   "outputs": [
    {
     "name": "stdout",
     "output_type": "stream",
     "text": [
      "O nome do filme é: O Código dá 20.\n"
     ]
    }
   ],
   "source": [
    "# declaração de variável\n",
    "x = 15\n",
    "y = 5\n",
    "\n",
    "# saída de dados\n",
    "print(f\"O nome do filme é: O Código dá {x+y}.\")"
   ]
  },
  {
   "cell_type": "markdown",
   "id": "892e623e",
   "metadata": {},
   "source": [
    "### Fazendo inputs em células de código em notebooks:"
   ]
  },
  {
   "cell_type": "code",
   "execution_count": null,
   "id": "9663468c",
   "metadata": {},
   "outputs": [
    {
     "name": "stdout",
     "output_type": "stream",
     "text": [
      "Beltrano\n"
     ]
    }
   ],
   "source": [
    "nome = input(\"Informe seu nome: \")\n",
    "print(nome)"
   ]
  },
  {
   "cell_type": "code",
   "execution_count": 10,
   "id": "ad632e39",
   "metadata": {},
   "outputs": [
    {
     "name": "stdout",
     "output_type": "stream",
     "text": [
      "15\n",
      "Beltrano\n"
     ]
    }
   ],
   "source": [
    "print(x)\n",
    "print(nome)"
   ]
  }
 ],
 "metadata": {
  "kernelspec": {
   "display_name": ".venv",
   "language": "python",
   "name": "python3"
  },
  "language_info": {
   "codemirror_mode": {
    "name": "ipython",
    "version": 3
   },
   "file_extension": ".py",
   "mimetype": "text/x-python",
   "name": "python",
   "nbconvert_exporter": "python",
   "pygments_lexer": "ipython3",
   "version": "3.13.3"
  }
 },
 "nbformat": 4,
 "nbformat_minor": 5
}
